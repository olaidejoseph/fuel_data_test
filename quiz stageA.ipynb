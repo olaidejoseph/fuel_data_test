{
 "cells": [
  {
   "cell_type": "code",
   "execution_count": 60,
   "metadata": {},
   "outputs": [
    {
     "name": "stdout",
     "output_type": "stream",
     "text": [
      "Libraries imported.\n"
     ]
    }
   ],
   "source": [
    "import numpy as np # library to handle data in a vectorized manner\n",
    "\n",
    "import pandas as pd # library for data analsysis\n",
    "#pd.set_option('display.max_columns', None)\n",
    "#pd.set_option('display.max_rows', None)\n",
    "\n",
    "import seaborn as sns # library for data visualization and representation\n",
    "\n",
    "# Matplotlib and associated plotting modules\n",
    "import matplotlib.pyplot as plt\n",
    "import matplotlib.cm as cm\n",
    "import matplotlib.colors as colors\n",
    "%matplotlib inline\n",
    "\n",
    "\n",
    "print('Libraries imported.')"
   ]
  },
  {
   "cell_type": "code",
   "execution_count": null,
   "metadata": {},
   "outputs": [],
   "source": [
    "fuel_data=pd.read_csv(r'https://raw.githubusercontent.com/WalePhenomenon/climate_change/master/fuel_ferc1.csv',\n",
    "                      error_bad_lines=False) "
   ]
  },
  {
   "cell_type": "code",
   "execution_count": null,
   "metadata": {},
   "outputs": [],
   "source": [
    "# Question 1\n",
    "# How do you create an identity matrix in python?\n",
    "\n",
    "# prints identity matrix\n",
    "np.identity(3)"
   ]
  },
  {
   "cell_type": "code",
   "execution_count": null,
   "metadata": {},
   "outputs": [],
   "source": [
    "# Question 2 \n",
    "# The feature with missing values falls under what category? What missing value imputation technique would you use?\n",
    "\n",
    "\n",
    "fuel_data.fuel_unit.fillna(fuel_data['fuel_unit'].mode()[0])"
   ]
  },
  {
   "cell_type": "code",
   "execution_count": null,
   "metadata": {},
   "outputs": [],
   "source": [
    "# Question 3 \n",
    "# Which of the features has the second and third lowest correlation with the Fuel Cost Per Unit Burned?\n",
    "\n",
    "\n",
    "fuel_data[fuel_data.columns[1:]].corr()['fuel_cost_per_unit_burned'].sort_values(ascending=False).tail(3)"
   ]
  },
  {
   "cell_type": "code",
   "execution_count": null,
   "metadata": {},
   "outputs": [],
   "source": [
    "# Question 4 \n",
    "# For the fuel type coal, what is the percentage change in the fuel cost per unit burned in 1998 compared to 1994?\n",
    "\n",
    "#Average fuel cost per unit burned for coal in 1998\n",
    "data1998 = fuel_data[(fuel_data['report_year']==1998) & (fuel_data['fuel_type_code_pudl']=='coal')]\n",
    "data_98sum = data1998['fuel_cost_per_unit_burned'].sum()\n",
    " \n",
    "#Average fuel cost per unit burned for coal in 1994\n",
    "data1994 = fuel_data[(fuel_data['report_year']==1994) & (fuel_data['fuel_type_code_pudl']=='coal')]\n",
    "data_94sum = data1994['fuel_cost_per_unit_burned'].sum()\n",
    " \n",
    "#percent change in the averages\n",
    "pchange = ((data_98sum - data_94sum)/data_98sum)*100\n",
    "print(int(pchange),'%')"
   ]
  },
  {
   "cell_type": "code",
   "execution_count": null,
   "metadata": {},
   "outputs": [],
   "source": [
    "#Question 5 \n",
    "#Which year has the highest average fuel cost per unit delivered?\n",
    "\n",
    "ans = fuel_data.groupby('report_year')['fuel_cost_per_unit_delivered'].mean()\n",
    "\n",
    "ans.idxmax()"
   ]
  },
  {
   "cell_type": "code",
   "execution_count": null,
   "metadata": {},
   "outputs": [],
   "source": [
    "# Question 6 \n",
    "# What is the standard deviation and 75th percentile of the measure of energy per unit (Fuel_mmbtu_per_unit) in two decimal places?\n",
    "\n",
    "fuel_data['fuel_mmbtu_per_unit'].describe().round(2)"
   ]
  },
  {
   "cell_type": "code",
   "execution_count": null,
   "metadata": {},
   "outputs": [],
   "source": [
    "#Question 7\n",
    "\n",
    "#Skew and Kurtosis\n",
    "fuel_data['fuel_qty_burned'].agg(['skew','kurt']).round(2)"
   ]
  },
  {
   "cell_type": "markdown",
   "metadata": {},
   "source": [
    "## QUESTION 8"
   ]
  },
  {
   "cell_type": "code",
   "execution_count": null,
   "metadata": {},
   "outputs": [],
   "source": [
    "# Dimensionality of the data\n",
    "print('The dataframe has {} rows and {} columns.'.format(\n",
    "        fuel_data.shape[0],\n",
    "        fuel_data.shape[1]\n",
    "    )\n",
    ")"
   ]
  },
  {
   "cell_type": "code",
   "execution_count": null,
   "metadata": {},
   "outputs": [],
   "source": [
    "#Percent\n",
    "val=fuel_data.isnull().sum()['fuel_unit']\n",
    "percent = ((val/29523)*100)\n",
    "\n",
    "\n",
    "print('Percent: ',percent,'%')"
   ]
  },
  {
   "cell_type": "code",
   "execution_count": null,
   "metadata": {},
   "outputs": [],
   "source": [
    "#Checkin for null values\n",
    "fuel_data.isnull().sum()\n",
    "",
    "\n",
    "\n",
   ]
  },
  {
   "cell_type": "code",
   "execution_count": null,
   "metadata": {},
   "outputs": [],
   "source": [
    "# Question 9\n",
    "# Which of the following fuel type code has the lowest average fuel cost per unit burned?\n",
    "\n",
    "\n",
    "avgfuelb=fuel_data.groupby('fuel_unit').mean().fuel_cost_per_unit_burned\n",
    "avgfuelb.idxmin(),avgfuelb.min() "
   ]
  },
  {
   "cell_type": "code",
   "execution_count": null,
   "metadata": {},
   "outputs": [],
   "source": [
    "#Question 9\n",
    "\n",
    "#group by fuel type and print out the minimum mean and the fuel type attached to it\n",
    "fuelgrp=fuel_data.groupby('fuel_type_code_pudl')['fuel_cost_per_unit_burned'].mean()\n",
    "\n",
    "(fuelgrp.idxmin(),':',fuelgrp.min())"
   ]
  },
  {
   "cell_type": "code",
   "execution_count": null,
   "metadata": {},
   "outputs": [],
   "source": [
    "#Question 10\n",
    "\n",
    "#list A and B\n",
    "A = [1,2,3,4,5,6]\n",
    "B = [13,21,34]\n",
    " \n",
    "#extending A with B\n",
    "A.extend(B)\n",
    "\n",
    "print(A)"
   ]
  },
  {
   "cell_type": "code",
   "execution_count": null,
   "metadata": {},
   "outputs": [],
   "source": []
  },
  {
   "cell_type": "code",
   "execution_count": null,
   "metadata": {},
   "outputs": [],
   "source": []
  },
  {
   "cell_type": "code",
   "execution_count": null,
   "metadata": {},
   "outputs": [],
   "source": []
  }
 ],
 "metadata": {
  "kernelspec": {
   "display_name": "Python 3",
   "language": "python",
   "name": "python3"
  },
  "language_info": {
   "codemirror_mode": {
    "name": "ipython",
    "version": 3
   },
   "file_extension": ".py",
   "mimetype": "text/x-python",
   "name": "python",
   "nbconvert_exporter": "python",
   "pygments_lexer": "ipython3",
   "version": "3.7.4"
  }
 },
 "nbformat": 4,
 "nbformat_minor": 2
}
