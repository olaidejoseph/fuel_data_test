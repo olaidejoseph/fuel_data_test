{
 "cells": [
  {
   "cell_type": "code",
   "execution_count": 32,
   "metadata": {},
   "outputs": [
    {
     "name": "stdout",
     "output_type": "stream",
     "text": [
      "Libraries imported.\n"
     ]
    }
   ],
   "source": [
    "import numpy as np # library to handle data in a vectorized manner\n",
    "\n",
    "import pandas as pd # library for data analsysis\n",
    "# pd.set_option('display.max_columns', None)\n",
    "# pd.set_option('display.max_rows', None)\n",
    "\n",
    "import seaborn as sns # library for data visualization and representation\n",
    "\n",
    "# Matplotlib and associated plotting modules\n",
    "import matplotlib.pyplot as plt\n",
    "import matplotlib.cm as cm\n",
    "import matplotlib.colors as colors\n",
    "\n",
    "import math # library for mathematical operations\n",
    "%matplotlib inline\n",
    "\n",
    "\n",
    "print('Libraries imported.')"
   ]
  },
  {
   "cell_type": "code",
   "execution_count": 33,
   "metadata": {},
   "outputs": [],
   "source": [
    "fuel_data=pd.read_csv(r'https://raw.githubusercontent.com/WalePhenomenon/climate_change/master/fuel_ferc1.csv',\n",
    "                      error_bad_lines=False) "
   ]
  },
  {
   "cell_type": "markdown",
   "metadata": {},
   "source": [
    "# Question 1"
   ]
  },
  {
   "cell_type": "code",
   "execution_count": 34,
   "metadata": {},
   "outputs": [
    {
     "data": {
      "text/plain": [
       "array([[1., 0., 0.],\n",
       "       [0., 1., 0.],\n",
       "       [0., 0., 1.]])"
      ]
     },
     "execution_count": 34,
     "metadata": {},
     "output_type": "execute_result"
    }
   ],
   "source": [
    "# How do you create an identity matrix in python?\n",
    "\n",
    "# prints identity matrix\n",
    "np.identity(3)"
   ]
  },
  {
   "cell_type": "markdown",
   "metadata": {},
   "source": [
    "# Question 2 "
   ]
  },
  {
   "cell_type": "code",
   "execution_count": 35,
   "metadata": {},
   "outputs": [
    {
     "data": {
      "text/plain": [
       "0        ton\n",
       "1        ton\n",
       "2        ton\n",
       "3        ton\n",
       "4        mcf\n",
       "        ... \n",
       "29518    mcf\n",
       "29519    mcf\n",
       "29520    mcf\n",
       "29521    ton\n",
       "29522    mcf\n",
       "Name: fuel_unit, Length: 29523, dtype: object"
      ]
     },
     "execution_count": 35,
     "metadata": {},
     "output_type": "execute_result"
    }
   ],
   "source": [
    "# The feature with missing values falls under what category? What missing value imputation technique would you use?\n",
    "\n",
    "\n",
    "fuel_data.fuel_unit.fillna(fuel_data['fuel_unit'].mode()[0])"
   ]
  },
  {
   "cell_type": "markdown",
   "metadata": {},
   "source": [
    "# Question 3 "
   ]
  },
  {
   "cell_type": "code",
   "execution_count": 36,
   "metadata": {},
   "outputs": [
    {
     "data": {
      "text/plain": [
       "fuel_mmbtu_per_unit   -0.010034\n",
       "fuel_qty_burned       -0.018535\n",
       "Name: fuel_cost_per_unit_burned, dtype: float64"
      ]
     },
     "execution_count": 36,
     "metadata": {},
     "output_type": "execute_result"
    }
   ],
   "source": [
    "# Which of the features has the second and third lowest correlation with the Fuel Cost Per Unit Burned?\n",
    "\n",
    "# the second and third lowest correlation\n",
    "fuel_data[fuel_data.columns[1:]].corr()['fuel_cost_per_unit_burned'].sort_values(ascending=False).tail(3)[:-1]  "
   ]
  },
  {
   "cell_type": "markdown",
   "metadata": {},
   "source": [
    "# Question 4 "
   ]
  },
  {
   "cell_type": "code",
   "execution_count": 37,
   "metadata": {},
   "outputs": [
    {
     "name": "stdout",
     "output_type": "stream",
     "text": [
      "Percentage:  -25 %\n"
     ]
    }
   ],
   "source": [
    "# For the fuel type coal, what is the percentage change in the fuel cost per unit burned in 1998 compared to 1994?\n",
    "\n",
    "# Average fuel cost per unit burned for coal in 1994\n",
    "data1994 = fuel_data[(fuel_data['report_year']==1994) & (fuel_data['fuel_type_code_pudl']=='coal')]\n",
    "data_94sum = data1994['fuel_cost_per_unit_burned'].sum()\n",
    "\n",
    "# Average fuel cost per unit burned for coal in 1998\n",
    "data1998 = fuel_data[(fuel_data['report_year']==1998) & (fuel_data['fuel_type_code_pudl']=='coal')]\n",
    "data_98sum = data1998['fuel_cost_per_unit_burned'].sum()\n",
    " \n",
    "# percent change in the averages \n",
    "pchange = ((data_98sum - data_94sum)/data_98sum)*100\n",
    "\n",
    "print('Percentage: ',math.ceil(pchange),'%')"
   ]
  },
  {
   "cell_type": "markdown",
   "metadata": {},
   "source": [
    "# Question 5 "
   ]
  },
  {
   "cell_type": "code",
   "execution_count": 38,
   "metadata": {},
   "outputs": [
    {
     "name": "stdout",
     "output_type": "stream",
     "text": [
      "The year 1997 has the highest average fuel cost per unit delivered\n"
     ]
    }
   ],
   "source": [
    "# Which year has the highest average fuel cost per unit delivered?\n",
    "\n",
    "ans = fuel_data.groupby('report_year')['fuel_cost_per_unit_delivered'].mean()\n",
    "\n",
    "print('The year', ans.idxmax(), 'has the highest average fuel cost per unit delivered')"
   ]
  },
  {
   "cell_type": "markdown",
   "metadata": {},
   "source": [
    "# Question 6 "
   ]
  },
  {
   "cell_type": "code",
   "execution_count": 39,
   "metadata": {},
   "outputs": [
    {
     "data": {
      "text/plain": [
       "std    10.60\n",
       "75%    17.01\n",
       "Name: fuel_mmbtu_per_unit, dtype: float64"
      ]
     },
     "execution_count": 39,
     "metadata": {},
     "output_type": "execute_result"
    }
   ],
   "source": [
    "# What is the standard deviation and 75th percentile of the measure of energy per unit (Fuel_mmbtu_per_unit) in two decimal places?\n",
    "\n",
    "fuel_data['fuel_mmbtu_per_unit'].describe().round(2).loc[['std','75%']] "
   ]
  },
  {
   "cell_type": "markdown",
   "metadata": {},
   "source": [
    "# Question 7"
   ]
  },
  {
   "cell_type": "code",
   "execution_count": 40,
   "metadata": {},
   "outputs": [
    {
     "data": {
      "text/plain": [
       "skew     15.85\n",
       "kurt    651.37\n",
       "Name: fuel_qty_burned, dtype: float64"
      ]
     },
     "execution_count": 40,
     "metadata": {},
     "output_type": "execute_result"
    }
   ],
   "source": [
    "# What is the skewness and kurtosis for the fuel quantity burned in two decimal places?\n",
    "\n",
    "fuel_data['fuel_qty_burned'].agg(['skew','kurt']).round(2) # Skewness and Kurtosis"
   ]
  },
  {
   "cell_type": "markdown",
   "metadata": {},
   "source": [
    "## QUESTION 8"
   ]
  },
  {
   "cell_type": "code",
   "execution_count": 41,
   "metadata": {},
   "outputs": [
    {
     "name": "stdout",
     "output_type": "stream",
     "text": [
      "The dataframe has 29523 rows and 11 columns.\n"
     ]
    }
   ],
   "source": [
    "# Dimensionality of the data\n",
    "print('The dataframe has {} rows and {} columns.'.format(\n",
    "        fuel_data.shape[0],\n",
    "        fuel_data.shape[1]\n",
    "    )\n",
    ")"
   ]
  },
  {
   "cell_type": "code",
   "execution_count": 42,
   "metadata": {},
   "outputs": [
    {
     "data": {
      "text/plain": [
       "record_id                       False\n",
       "utility_id_ferc1                False\n",
       "report_year                     False\n",
       "plant_name_ferc1                False\n",
       "fuel_type_code_pudl             False\n",
       "fuel_unit                        True\n",
       "fuel_qty_burned                 False\n",
       "fuel_mmbtu_per_unit             False\n",
       "fuel_cost_per_unit_burned       False\n",
       "fuel_cost_per_unit_delivered    False\n",
       "fuel_cost_per_mmbtu             False\n",
       "dtype: bool"
      ]
     },
     "execution_count": 42,
     "metadata": {},
     "output_type": "execute_result"
    }
   ],
   "source": [
    "# Checking for the presence of null values per column\n",
    "fuel_data.isnull().any()"
   ]
  },
  {
   "cell_type": "code",
   "execution_count": 43,
   "metadata": {},
   "outputs": [
    {
     "data": {
      "text/plain": [
       "180"
      ]
     },
     "execution_count": 43,
     "metadata": {},
     "output_type": "execute_result"
    }
   ],
   "source": [
    "# Checking for the total amount of null values in fuel unit column\n",
    "fuel_data.isnull().sum()['fuel_unit']"
   ]
  },
  {
   "cell_type": "code",
   "execution_count": 44,
   "metadata": {},
   "outputs": [
    {
     "name": "stdout",
     "output_type": "stream",
     "text": [
      "Percentage:  0.610 %\n"
     ]
    }
   ],
   "source": [
    "# Percent of null values to the total amount of rows\n",
    "nullval=fuel_data.isnull().sum()['fuel_unit']\n",
    "totalrows=fuel_data.shape[0]\n",
    "\n",
    "percentage = '{0:.3f}'.format((nullval / totalrows * 100)) \n",
    "\n",
    "\n",
    "print('Percentage: ',percentage,'%') #percent in 3 decimal places"
   ]
  },
  {
   "cell_type": "markdown",
   "metadata": {},
   "source": [
    "# Question 9"
   ]
  },
  {
   "cell_type": "code",
   "execution_count": 45,
   "metadata": {},
   "outputs": [
    {
     "name": "stdout",
     "output_type": "stream",
     "text": [
      "fuel type is:  gas and the minimum mean is:  13.659396569737135\n"
     ]
    }
   ],
   "source": [
    "# Which of the following fuel type code has the lowest average fuel cost per unit burned?\n",
    "\n",
    "# group by fuel type and print out the minimum mean and the fuel type attached to it\n",
    "fuelgrp=fuel_data.groupby('fuel_type_code_pudl')['fuel_cost_per_unit_burned'].mean()\n",
    "\n",
    "print('fuel type is: ',fuelgrp.idxmin(),'and the minimum mean is: ',fuelgrp.min()) "
   ]
  },
  {
   "cell_type": "code",
   "execution_count": 46,
   "metadata": {},
   "outputs": [
    {
     "name": "stdout",
     "output_type": "stream",
     "text": [
      "[1, 2, 3, 4, 5, 6, 13, 21, 34]\n"
     ]
    }
   ],
   "source": [
    "#Question 10\n",
    "\n",
    "#list A and B\n",
    "A = [1,2,3,4,5,6]\n",
    "B = [13,21,34]\n",
    " \n",
    "#extending A with B\n",
    "A.extend(B)\n",
    "A_B=A\n",
    "print(A_B)"
   ]
  },
  {
   "cell_type": "code",
   "execution_count": null,
   "metadata": {},
   "outputs": [],
   "source": []
  },
  {
   "cell_type": "code",
   "execution_count": null,
   "metadata": {},
   "outputs": [],
   "source": []
  }
 ],
 "metadata": {
  "kernelspec": {
   "display_name": "Python 3",
   "language": "python",
   "name": "python3"
  },
  "language_info": {
   "codemirror_mode": {
    "name": "ipython",
    "version": 3
   },
   "file_extension": ".py",
   "mimetype": "text/x-python",
   "name": "python",
   "nbconvert_exporter": "python",
   "pygments_lexer": "ipython3",
   "version": "3.7.4"
  }
 },
 "nbformat": 4,
 "nbformat_minor": 2
}
